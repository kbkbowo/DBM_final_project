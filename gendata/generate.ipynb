{
 "cells": [
  {
   "cell_type": "code",
   "execution_count": null,
   "metadata": {},
   "outputs": [],
   "source": [
    "animal_names = []\n",
    "with open('animal_name.txt', 'r', encoding='utf8') as f:\n",
    "    l = f.readline()\n",
    "    while (len(l)>0):\n",
    "        #print(l)\n",
    "        name = l.split(' ')\n",
    "        for n in name:\n",
    "            if (len(n) > 0):\n",
    "                if (n[-1] == '\\n'):\n",
    "                    n = n[:-1]\n",
    "                if (len(n) > 0):\n",
    "                    animal_names.append(n)\n",
    "                    animal_names.append('可愛' + n)\n",
    "                    if (n[0] == '小'):\n",
    "                        animal_names.append(n + n[-1])\n",
    "                    else:\n",
    "                        animal_names.append('小' + n)\n",
    "                        animal_names.append('可愛小' + n)\n",
    "                        animal_names.append('小小' + n)\n",
    "        l = f.readline()\n"
   ]
  },
  {
   "cell_type": "code",
   "execution_count": null,
   "metadata": {},
   "outputs": [],
   "source": [
    "import random\n",
    "random.shuffle(animal_names)\n",
    "print(len(animal_names))"
   ]
  },
  {
   "cell_type": "code",
   "execution_count": null,
   "metadata": {},
   "outputs": [],
   "source": [
    "reported_reason = []\n",
    "with open('reported_reason.txt', 'r', encoding='utf8') as f:\n",
    "    l = f.readline()\n",
    "    cnt = 1\n",
    "    while (len(l)>0):\n",
    "        l = l[:-1]\n",
    "        if (cnt <= 3):\n",
    "            for i in range(50):\n",
    "                reported_reason.append(l)\n",
    "        else:\n",
    "            reported_reason.append(l)\n",
    "        cnt += 1\n",
    "        l = f.readline()\n",
    "print(len(reported_reason))"
   ]
  },
  {
   "cell_type": "code",
   "execution_count": null,
   "metadata": {},
   "outputs": [],
   "source": [
    "reported_location = []\n",
    "with open('reported_location.txt', 'r', encoding='utf8') as f:\n",
    "    l = f.readline()\n",
    "    cnt = 1\n",
    "    while (len(l)>0):\n",
    "        l = l[:-1]\n",
    "        reported_location.append(l)\n",
    "        l = f.readline()\n",
    "print(len(reported_location))"
   ]
  },
  {
   "cell_type": "code",
   "execution_count": null,
   "metadata": {},
   "outputs": [],
   "source": [
    "sent_reason = []\n",
    "with open('sent_reason.txt', 'r', encoding='utf8') as f:\n",
    "    l = f.readline()\n",
    "    cnt = 1\n",
    "    while (len(l)>0):\n",
    "        l = l[:-1]\n",
    "        sent_reason.append(l)\n",
    "        l = f.readline()\n",
    "print(len(sent_reason))"
   ]
  },
  {
   "cell_type": "code",
   "execution_count": 49,
   "metadata": {},
   "outputs": [
    {
     "name": "stdout",
     "output_type": "stream",
     "text": [
      "1287\n"
     ]
    }
   ],
   "source": [
    "event_description = []\n",
    "with open('event_description.txt', 'r', encoding='utf8') as f:\n",
    "    l = f.readline()\n",
    "    cnt = 1\n",
    "    while (len(l)>0):\n",
    "        l = l[:-1]\n",
    "        if (len(l) > 10): \n",
    "            event_description.append(l)\n",
    "            event_description.append(l + '歡迎各位踴躍參加！')\n",
    "            event_description.append(l + '愛護動物從你我做起！')\n",
    "        l = f.readline()\n",
    "print(len(event_description))"
   ]
  },
  {
   "cell_type": "code",
   "execution_count": 50,
   "metadata": {},
   "outputs": [],
   "source": [
    "import pandas as pd\n",
    "import psycopg2\n",
    "\n",
    "# Connect to PostgreSQL and fetch data\n",
    "db_password = \"owokbc0416\"\n",
    "    \n",
    "relation = \"event\"\n",
    "\n",
    "psql_conn = psycopg2.connect(\"dbname='dbm_final' user='kbkbowo' host='database-1.ci4rlgsoozib.ap-southeast-2.rds.amazonaws.com' password=\" + db_password)\n",
    "cur = psql_conn.cursor()\n",
    "sql = f\"\"\"\n",
    "Update {relation} Set event_description = Case\n",
    "\n",
    "\"\"\"\n",
    "in_ = \"\"\n",
    "for i in range(1006):\n",
    "    #if i == 3018:continue\n",
    "    sql = sql + f\"\"\"  When event_id = ({i}::VARCHAR) Then '{event_description[random.randint(0, len(event_description)-1)]}'\n",
    "    \"\"\"\n",
    "    in_ = in_ + f\"\\'{i}\\',\"\n",
    "in_ = in_[:-1]\n",
    "sql = sql + f\"\"\"  End\n",
    "Where event_id in ({in_})\n",
    "\"\"\"\n",
    "cur.execute(sql)"
   ]
  },
  {
   "cell_type": "code",
   "execution_count": 52,
   "metadata": {},
   "outputs": [
    {
     "name": "stdout",
     "output_type": "stream",
     "text": [
      "                                      event_description\n",
      "0                     愛心領養，改變命運！參與愛心領養活動，為每一隻動物點燃生命的星火。\n",
      "1     養寵物是一種生活態度，也是一份幸福。參與我們的活動，學習如何為寵物提供最好的照顧！愛護動物從...\n",
      "2     遠離冷漠，走向愛的旅程。一同參與我們的活動，推廣領養文化，為無家可歸的動物找到一片溫暖的家！...\n",
      "3     尊重每一個生命，從領養開始。參與我們的動物飼養工作坊，學習成為負責任的寵物主人。愛護動物從你...\n",
      "4         改變一生，由你出發。參與我們的領養活動，深入了解動物需求，並學習使用線上系統，為他們發聲。\n",
      "...                                                 ...\n",
      "998      加入我們，成為動物保護的一份子！我們將親自示範如何飼養寵物，為您打造一個溫馨快樂的共生空間。\n",
      "999   一場改變生命的體驗，讓我們一同守護動物的幸福！透過領養教學，以及線上平台的應用，成為動物守護使者。\n",
      "1000  愛，是最好的飼養指南！參與我們的動物愛護活動，不僅能感受領養的愉悅，還能在線上平台上發揮您的...\n",
      "1001  愛的延續，由你開始。加入我們的領養日，學習正確的照顧技巧，成為動物幸福的伙伴。愛護動物從你我做起！\n",
      "1002            愛的見證，領養有情！參與愛心領養活動，成為動物的守護天使，一同寫下幸福的故事。\n",
      "\n",
      "[1003 rows x 1 columns]\n"
     ]
    }
   ],
   "source": [
    "query = f\"\"\"\n",
    "select event_description from {relation}\n",
    "\n",
    "\"\"\"\n",
    "df = pd.read_sql_query(query, psql_conn)\n",
    "print(df)\n",
    "\n",
    "cur.close()\n",
    "psql_conn.commit()\n",
    "psql_conn.close()"
   ]
  }
 ],
 "metadata": {
  "kernelspec": {
   "display_name": "Python 3",
   "language": "python",
   "name": "python3"
  },
  "language_info": {
   "codemirror_mode": {
    "name": "ipython",
    "version": 3
   },
   "file_extension": ".py",
   "mimetype": "text/x-python",
   "name": "python",
   "nbconvert_exporter": "python",
   "pygments_lexer": "ipython3",
   "version": "3.6.4"
  }
 },
 "nbformat": 4,
 "nbformat_minor": 2
}
